{
  "nbformat": 4,
  "nbformat_minor": 0,
  "metadata": {
    "colab": {
      "name": "Face_Detect_V1_Base.ipynb",
      "provenance": [],
      "authorship_tag": "ABX9TyNQATGWxFeWGai7+sg+9TFO",
      "include_colab_link": true
    },
    "kernelspec": {
      "name": "python3",
      "display_name": "Python 3"
    },
    "language_info": {
      "name": "python"
    },
    "accelerator": "GPU"
  },
  "cells": [
    {
      "cell_type": "markdown",
      "metadata": {
        "id": "view-in-github",
        "colab_type": "text"
      },
      "source": [
        "<a href=\"https://colab.research.google.com/github/srijan-singh/FaceDetect/blob/main/Face_Detect_V1_Base.ipynb\" target=\"_parent\"><img src=\"https://colab.research.google.com/assets/colab-badge.svg\" alt=\"Open In Colab\"/></a>"
      ]
    },
    {
      "cell_type": "code",
      "metadata": {
        "id": "pU0ZJUWPNhK9"
      },
      "source": [
        "!pip install face_recognition"
      ],
      "execution_count": null,
      "outputs": []
    },
    {
      "cell_type": "code",
      "metadata": {
        "id": "FD5FgfapVFJP"
      },
      "source": [
        "import face_recognition\n",
        "import imageio\n",
        "import cv2\n",
        "from google.colab.patches import cv2_imshow\n",
        "import numpy as np\n",
        "\n",
        "\n",
        "class faceDetect:\n",
        "\n",
        "  def __init__ (self, user_image, user_label):\n",
        "\n",
        "    face_1 = face_recognition.load_image_file(user_image)\n",
        "    face_1_encoding = face_recognition.face_encodings(face_1)[0]\n",
        "\n",
        "    self.known_face_encodings = [face_1_encoding]\n",
        "\n",
        "    self.known_face_names = [user_label]\n",
        "\n",
        "  def predict(self, pred_user_image):\n",
        "\n",
        "    file_name = pred_user_image\n",
        "\n",
        "    unknown_image = face_recognition.load_image_file(file_name)\n",
        "    unknown_image_to_draw = cv2.imread(file_name)\n",
        "\n",
        "    face_locations = face_recognition.face_locations(unknown_image)\n",
        "    face_encodings = face_recognition.face_encodings(unknown_image, face_locations)\n",
        "\n",
        "    for (top,right, bottom, left), face_encoding in zip(face_locations, face_encodings):\n",
        "\n",
        "      matches = face_recognition.compare_faces(self.known_face_encodings, face_encoding)\n",
        "\n",
        "      name = \"Unknown\"\n",
        "\n",
        "      face_distances = face_recognition.face_distance(self.known_face_encodings, face_encoding)\n",
        "      best_match_index = np.argmin(face_distances)\n",
        "      \n",
        "      if matches[best_match_index]:\n",
        "        \n",
        "        name = self.known_face_names[best_match_index]\n",
        "      cv2.rectangle(unknown_image_to_draw, (left, top), (right, bottom),(0,255,0),3)\n",
        "      cv2.putText(unknown_image_to_draw,name, (left, top-20), cv2.FONT_HERSHEY_SIMPLEX,1,(0,0,255),2, cv2.LINE_AA)\n",
        "\n",
        "    cv2_imshow(unknown_image_to_draw)\n"
      ],
      "execution_count": null,
      "outputs": []
    },
    {
      "cell_type": "code",
      "metadata": {
        "id": "Nm5Rrsx5YdDp"
      },
      "source": [
        "if __name__ == \"__main__\":\n",
        "  user_label = \"Me\"\n",
        "  user_image = \"my_photo.jpeg\"\n",
        "  pred_user_image = \"badge.png\"\n",
        "  model = faceDetect(user_image, user_label)\n",
        "  model.predict(pred_user_image)"
      ],
      "execution_count": null,
      "outputs": []
    }
  ]
}