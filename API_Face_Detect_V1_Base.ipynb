{
  "nbformat": 4,
  "nbformat_minor": 0,
  "metadata": {
    "accelerator": "GPU",
    "colab": {
      "name": "API_Face_Detect_V1_Base.ipynb",
      "provenance": [],
      "collapsed_sections": [],
      "authorship_tag": "ABX9TyOchDpN16d+60BVfh+xIEPe",
      "include_colab_link": true
    },
    "kernelspec": {
      "display_name": "Python 3",
      "name": "python3"
    },
    "language_info": {
      "name": "python"
    }
  },
  "cells": [
    {
      "cell_type": "markdown",
      "metadata": {
        "id": "view-in-github",
        "colab_type": "text"
      },
      "source": [
        "<a href=\"https://colab.research.google.com/github/srijan-singh/FaceDetect/blob/main/API_Face_Detect_V1_Base.ipynb\" target=\"_parent\"><img src=\"https://colab.research.google.com/assets/colab-badge.svg\" alt=\"Open In Colab\"/></a>"
      ]
    },
    {
      "cell_type": "code",
      "metadata": {
        "id": "xWH5nXQL6pew"
      },
      "source": [
        "!pip install fastapi nest-asyncio pyngrok uvicorn\n",
        "!pip install face_recognition\n",
        "!pip install aiofiles\n",
        "!pip install python-multipart"
      ],
      "execution_count": null,
      "outputs": []
    },
    {
      "cell_type": "code",
      "metadata": {
        "id": "HlPwWNki68yc",
        "cellView": "form"
      },
      "source": [
        "#@title Class Face Detect\n",
        "import face_recognition\n",
        "import imageio\n",
        "import cv2\n",
        "import numpy as np\n",
        "\n",
        "\n",
        "class faceDetect:\n",
        "\n",
        "  def __init__ (self, user_image, user_label):\n",
        "\n",
        "    face_1 = face_recognition.load_image_file(user_image)\n",
        "    face_1_encoding = face_recognition.face_encodings(face_1)[0]\n",
        "\n",
        "    self.known_face_encodings = [face_1_encoding]\n",
        "\n",
        "    self.known_face_names = [user_label]\n",
        "\n",
        "  def predict(self, pred_user_image):\n",
        "\n",
        "    file_name = pred_user_image\n",
        "\n",
        "    unknown_image = face_recognition.load_image_file(file_name)\n",
        "    unknown_image_to_draw = cv2.imread(file_name)\n",
        "\n",
        "    face_locations = face_recognition.face_locations(unknown_image)\n",
        "    face_encodings = face_recognition.face_encodings(unknown_image, face_locations)\n",
        "\n",
        "    for (top,right, bottom, left), face_encoding in zip(face_locations, face_encodings):\n",
        "\n",
        "      matches = face_recognition.compare_faces(self.known_face_encodings, face_encoding)\n",
        "\n",
        "      name = \"Unknown\"\n",
        "\n",
        "      face_distances = face_recognition.face_distance(self.known_face_encodings, face_encoding)\n",
        "      best_match_index = np.argmin(face_distances)\n",
        "      \n",
        "      if matches[best_match_index]:\n",
        "        \n",
        "        name = self.known_face_names[best_match_index]\n",
        "      cv2.rectangle(unknown_image_to_draw, (left, top), (right, bottom),(0,255,0),3)\n",
        "      cv2.putText(unknown_image_to_draw,name, (left, top-20), cv2.FONT_HERSHEY_SIMPLEX,1,(0,0,255),2, cv2.LINE_AA)\n",
        "  \n",
        "    return cv2.imwrite(\"/content/pred_image.png\", unknown_image_to_draw)"
      ],
      "execution_count": null,
      "outputs": []
    },
    {
      "cell_type": "code",
      "metadata": {
        "id": "yz3WKIgg7MvS",
        "cellView": "form"
      },
      "source": [
        "#@title API\n",
        "#Libraries : Only for Colab (To Get Public Link)\n",
        "import nest_asyncio\n",
        "from pyngrok import ngrok\n",
        "from pydantic import BaseModel\n",
        "\n",
        "# Librarires : Must\n",
        "import uvicorn\n",
        "import shutil\n",
        "from fastapi import FastAPI, UploadFile, File, Form\n",
        "from fastapi.responses import FileResponse\n",
        "\n",
        "\n",
        "app = FastAPI()\n",
        "\n",
        "data_file = \"upload_image.png\"\n",
        "target_file = \"target_image.png\"\n",
        "data_label = [\"Default\"]\n",
        "\n",
        "@app.get(\"/\")\n",
        "def index():\n",
        "    return {\"Computer Vision\":\"Face Detect\"}\n",
        "\n",
        "\n",
        "@app.post(\"/upload/data_file\")\n",
        "async def upload(Source_Image: UploadFile = File(...), Name:str = Form(...)):\n",
        "    \n",
        "    data_label.append(Name)\n",
        "\n",
        "    with open(data_file, \"wb\") as buffer:\n",
        "        shutil.copyfileobj(Source_Image.file, buffer)\n",
        "\n",
        "    return {\"filename\": Source_Image.filename}\n",
        "\n",
        "\n",
        "@app.post(\"/upload/target_file\")\n",
        "async def Target_Image(Target_Image: UploadFile = File(...)):\n",
        "\n",
        "    with open(target_file, \"wb\") as buffer:\n",
        "        shutil.copyfileobj(Target_Image.file, buffer)\n",
        "\n",
        "    return {\"filename\": Target_Image.filename}\n",
        "\n",
        "\n",
        "@app.get(\"/result\")\n",
        "def Prediction():\n",
        "  model = faceDetect(data_file, data_label[-1])\n",
        "  model.predict(target_file)\n",
        "  return FileResponse(\"pred_image.png\")\n",
        "\n",
        "\n",
        "\n",
        "if __name__ == \"__main__\":\n",
        "  ngrok_tunnel = ngrok.connect(8000)\n",
        "  print('Public URL:', ngrok_tunnel.public_url)\n",
        "  nest_asyncio.apply()\n",
        "  uvicorn.run(app, port=8000)"
      ],
      "execution_count": null,
      "outputs": []
    }
  ]
}