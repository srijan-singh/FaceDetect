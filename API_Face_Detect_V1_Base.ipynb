{
  "nbformat": 4,
  "nbformat_minor": 0,
  "metadata": {
    "accelerator": "GPU",
    "colab": {
      "name": "API_Face_Detect_V1_Base.ipynb",
      "provenance": [],
      "collapsed_sections": [],
      "authorship_tag": "ABX9TyMFdfqn0kAwZJB+EZvd8CtD",
      "include_colab_link": true
    },
    "kernelspec": {
      "display_name": "Python 3",
      "name": "python3"
    },
    "language_info": {
      "name": "python"
    }
  },
  "cells": [
    {
      "cell_type": "markdown",
      "metadata": {
        "id": "view-in-github",
        "colab_type": "text"
      },
      "source": [
        "<a href=\"https://colab.research.google.com/github/srijan-singh/FaceDetect/blob/main/API_Face_Detect_V1_Base.ipynb\" target=\"_parent\"><img src=\"https://colab.research.google.com/assets/colab-badge.svg\" alt=\"Open In Colab\"/></a>"
      ]
    },
    {
      "cell_type": "code",
      "metadata": {
        "id": "xWH5nXQL6pew",
        "colab": {
          "base_uri": "https://localhost:8080/"
        },
        "outputId": "74cf70ea-6af1-42f5-da08-31bf1d357790"
      },
      "source": [
        "!pip install fastapi nest-asyncio pyngrok uvicorn\n",
        "!pip install face_recognition\n",
        "!pip install aiofiles\n",
        "!pip install python-multipart"
      ],
      "execution_count": 1,
      "outputs": [
        {
          "output_type": "stream",
          "text": [
            "Collecting fastapi\n",
            "\u001b[?25l  Downloading https://files.pythonhosted.org/packages/4e/b9/a91a699f5c201413b3f61405dbccc29ebe5ad25945230e9cec98fdb2434c/fastapi-0.65.1-py3-none-any.whl (50kB)\n",
            "\r\u001b[K     |██████▍                         | 10kB 23.4MB/s eta 0:00:01\r\u001b[K     |████████████▉                   | 20kB 28.3MB/s eta 0:00:01\r\u001b[K     |███████████████████▎            | 30kB 31.5MB/s eta 0:00:01\r\u001b[K     |█████████████████████████▊      | 40kB 27.9MB/s eta 0:00:01\r\u001b[K     |████████████████████████████████| 51kB 7.1MB/s \n",
            "\u001b[?25hRequirement already satisfied: nest-asyncio in /usr/local/lib/python3.7/dist-packages (1.5.1)\n",
            "Collecting pyngrok\n",
            "\u001b[?25l  Downloading https://files.pythonhosted.org/packages/6b/4e/a2fe095bbe17cf26424c4abcd22a0490e22d01cc628f25af5e220ddbf6f0/pyngrok-5.0.5.tar.gz (745kB)\n",
            "\u001b[K     |████████████████████████████████| 747kB 39.6MB/s \n",
            "\u001b[?25hCollecting uvicorn\n",
            "\u001b[?25l  Downloading https://files.pythonhosted.org/packages/c8/de/953f0289508b1b92debdf0a6822d9b88ffb0c6ad471d709cf639a2c8a176/uvicorn-0.13.4-py3-none-any.whl (46kB)\n",
            "\u001b[K     |████████████████████████████████| 51kB 8.0MB/s \n",
            "\u001b[?25hCollecting starlette==0.14.2\n",
            "\u001b[?25l  Downloading https://files.pythonhosted.org/packages/15/34/db1890f442a1cd3a2c761f4109a0eb4e63503218d70a8c8e97faa09a5500/starlette-0.14.2-py3-none-any.whl (60kB)\n",
            "\u001b[K     |████████████████████████████████| 61kB 8.8MB/s \n",
            "\u001b[?25hCollecting pydantic!=1.7,!=1.7.1,!=1.7.2,!=1.7.3,!=1.8,!=1.8.1,<2.0.0,>=1.6.2\n",
            "\u001b[?25l  Downloading https://files.pythonhosted.org/packages/9f/f2/2d5425efe57f6c4e06cbe5e587c1fd16929dcf0eb90bd4d3d1e1c97d1151/pydantic-1.8.2-cp37-cp37m-manylinux2014_x86_64.whl (10.1MB)\n",
            "\u001b[K     |████████████████████████████████| 10.1MB 46.4MB/s \n",
            "\u001b[?25hRequirement already satisfied: PyYAML in /usr/local/lib/python3.7/dist-packages (from pyngrok) (3.13)\n",
            "Collecting click==7.*\n",
            "\u001b[?25l  Downloading https://files.pythonhosted.org/packages/d2/3d/fa76db83bf75c4f8d338c2fd15c8d33fdd7ad23a9b5e57eb6c5de26b430e/click-7.1.2-py2.py3-none-any.whl (82kB)\n",
            "\u001b[K     |████████████████████████████████| 92kB 12.6MB/s \n",
            "\u001b[?25hRequirement already satisfied: typing-extensions; python_version < \"3.8\" in /usr/local/lib/python3.7/dist-packages (from uvicorn) (3.7.4.3)\n",
            "Collecting h11>=0.8\n",
            "\u001b[?25l  Downloading https://files.pythonhosted.org/packages/60/0f/7a0eeea938eaf61074f29fed9717f2010e8d0e0905d36b38d3275a1e4622/h11-0.12.0-py3-none-any.whl (54kB)\n",
            "\u001b[K     |████████████████████████████████| 61kB 8.5MB/s \n",
            "\u001b[?25hBuilding wheels for collected packages: pyngrok\n",
            "  Building wheel for pyngrok (setup.py) ... \u001b[?25l\u001b[?25hdone\n",
            "  Created wheel for pyngrok: filename=pyngrok-5.0.5-cp37-none-any.whl size=19246 sha256=3843958c6ebf35c50ef6a5d9c1077112b9c33f9ce6fd4920da2a5de5c288564b\n",
            "  Stored in directory: /root/.cache/pip/wheels/0c/13/64/5ebbcc22eaf53fdf5766b397c1fb17c83f5775fdccf0ea1b88\n",
            "Successfully built pyngrok\n",
            "Installing collected packages: starlette, pydantic, fastapi, pyngrok, click, h11, uvicorn\n",
            "  Found existing installation: click 8.0.0\n",
            "    Uninstalling click-8.0.0:\n",
            "      Successfully uninstalled click-8.0.0\n",
            "Successfully installed click-7.1.2 fastapi-0.65.1 h11-0.12.0 pydantic-1.8.2 pyngrok-5.0.5 starlette-0.14.2 uvicorn-0.13.4\n",
            "Collecting face_recognition\n",
            "  Downloading https://files.pythonhosted.org/packages/1e/95/f6c9330f54ab07bfa032bf3715c12455a381083125d8880c43cbe76bb3d0/face_recognition-1.3.0-py2.py3-none-any.whl\n",
            "Requirement already satisfied: numpy in /usr/local/lib/python3.7/dist-packages (from face_recognition) (1.19.5)\n",
            "Collecting face-recognition-models>=0.3.0\n",
            "\u001b[?25l  Downloading https://files.pythonhosted.org/packages/cf/3b/4fd8c534f6c0d1b80ce0973d01331525538045084c73c153ee6df20224cf/face_recognition_models-0.3.0.tar.gz (100.1MB)\n",
            "\u001b[K     |████████████████████████████████| 100.2MB 30kB/s \n",
            "\u001b[?25hRequirement already satisfied: Click>=6.0 in /usr/local/lib/python3.7/dist-packages (from face_recognition) (7.1.2)\n",
            "Requirement already satisfied: Pillow in /usr/local/lib/python3.7/dist-packages (from face_recognition) (7.1.2)\n",
            "Requirement already satisfied: dlib>=19.7 in /usr/local/lib/python3.7/dist-packages (from face_recognition) (19.18.0)\n",
            "Building wheels for collected packages: face-recognition-models\n",
            "  Building wheel for face-recognition-models (setup.py) ... \u001b[?25l\u001b[?25hdone\n",
            "  Created wheel for face-recognition-models: filename=face_recognition_models-0.3.0-py2.py3-none-any.whl size=100566173 sha256=f3ea8969a31394bc0d8ee0fd59bc2b85994e2d8727e48ec627f2d9fb85a3896a\n",
            "  Stored in directory: /root/.cache/pip/wheels/d2/99/18/59c6c8f01e39810415c0e63f5bede7d83dfb0ffc039865465f\n",
            "Successfully built face-recognition-models\n",
            "Installing collected packages: face-recognition-models, face-recognition\n",
            "Successfully installed face-recognition-1.3.0 face-recognition-models-0.3.0\n",
            "Collecting aiofiles\n",
            "  Downloading https://files.pythonhosted.org/packages/ba/21/df5eae4b6db2eb00d58428dd7f793ecbf99942fcafcea141cbf108fa72f4/aiofiles-0.6.0-py3-none-any.whl\n",
            "Installing collected packages: aiofiles\n",
            "Successfully installed aiofiles-0.6.0\n",
            "Collecting python-multipart\n",
            "  Downloading https://files.pythonhosted.org/packages/46/40/a933ac570bf7aad12a298fc53458115cc74053474a72fbb8201d7dc06d3d/python-multipart-0.0.5.tar.gz\n",
            "Requirement already satisfied: six>=1.4.0 in /usr/local/lib/python3.7/dist-packages (from python-multipart) (1.15.0)\n",
            "Building wheels for collected packages: python-multipart\n",
            "  Building wheel for python-multipart (setup.py) ... \u001b[?25l\u001b[?25hdone\n",
            "  Created wheel for python-multipart: filename=python_multipart-0.0.5-cp37-none-any.whl size=31671 sha256=e3a77745583c077ad9b4597b251dc2b1e7de892e9cb9748c8e71bd7b95f2158a\n",
            "  Stored in directory: /root/.cache/pip/wheels/f0/e6/66/14a866a3cbd6a0cabfbef91f7edf40aa03595ef6c88d6d1be4\n",
            "Successfully built python-multipart\n",
            "Installing collected packages: python-multipart\n",
            "Successfully installed python-multipart-0.0.5\n"
          ],
          "name": "stdout"
        }
      ]
    },
    {
      "cell_type": "code",
      "metadata": {
        "id": "HlPwWNki68yc",
        "cellView": "form"
      },
      "source": [
        "#@title Class Face Detect\n",
        "import face_recognition\n",
        "import imageio\n",
        "import cv2\n",
        "import numpy as np\n",
        "\n",
        "\n",
        "class faceDetect:\n",
        "\n",
        "  def __init__ (self, user_image, user_label):\n",
        "\n",
        "    face_1 = face_recognition.load_image_file(user_image)\n",
        "    face_1_encoding = face_recognition.face_encodings(face_1)[0]\n",
        "\n",
        "    self.known_face_encodings = [face_1_encoding]\n",
        "\n",
        "    self.known_face_names = [user_label]\n",
        "\n",
        "  def predict(self, pred_user_image):\n",
        "\n",
        "    file_name = pred_user_image\n",
        "\n",
        "    unknown_image = face_recognition.load_image_file(file_name)\n",
        "    unknown_image_to_draw = cv2.imread(file_name)\n",
        "\n",
        "    face_locations = face_recognition.face_locations(unknown_image)\n",
        "    face_encodings = face_recognition.face_encodings(unknown_image, face_locations)\n",
        "\n",
        "    for (top,right, bottom, left), face_encoding in zip(face_locations, face_encodings):\n",
        "\n",
        "      matches = face_recognition.compare_faces(self.known_face_encodings, face_encoding)\n",
        "\n",
        "      name = \"Unknown\"\n",
        "\n",
        "      face_distances = face_recognition.face_distance(self.known_face_encodings, face_encoding)\n",
        "      best_match_index = np.argmin(face_distances)\n",
        "      \n",
        "      if matches[best_match_index]:\n",
        "        \n",
        "        name = self.known_face_names[best_match_index]\n",
        "      cv2.rectangle(unknown_image_to_draw, (left, top), (right, bottom),(0,255,0),3)\n",
        "      cv2.putText(unknown_image_to_draw,name, (left, top-20), cv2.FONT_HERSHEY_SIMPLEX,1,(0,0,255),2, cv2.LINE_AA)\n",
        "  \n",
        "    return cv2.imwrite(\"/content/pred_image.png\", unknown_image_to_draw)"
      ],
      "execution_count": 1,
      "outputs": []
    },
    {
      "cell_type": "code",
      "metadata": {
        "colab": {
          "base_uri": "https://localhost:8080/"
        },
        "id": "yz3WKIgg7MvS",
        "cellView": "form",
        "outputId": "928fffc6-437b-4d39-96de-3708fc4168e7"
      },
      "source": [
        "#@title API\n",
        "#Libraries : Only for Colab (To Get Public Link)\n",
        "import nest_asyncio\n",
        "from pyngrok import ngrok\n",
        "from pydantic import BaseModel\n",
        "\n",
        "# Librarires : Must\n",
        "import uvicorn\n",
        "import shutil\n",
        "from fastapi import FastAPI, UploadFile, File, Form\n",
        "from fastapi.responses import FileResponse\n",
        "\n",
        "\n",
        "app = FastAPI()\n",
        "\n",
        "data_file = \"upload_image.png\"\n",
        "target_file = \"target_image.png\"\n",
        "data_label = [\"Default\"]\n",
        "\n",
        "@app.get(\"/\")\n",
        "def index():\n",
        "    return {\"Yo\":\"LO\"}\n",
        "\n",
        "\n",
        "@app.post(\"/upload/data_file\")\n",
        "async def upload(file: UploadFile = File(...), username:str = Form(...)):\n",
        "    \n",
        "    data_label.append(username)\n",
        "\n",
        "    with open(data_file, \"wb\") as buffer:\n",
        "        shutil.copyfileobj(file.file, buffer)\n",
        "\n",
        "    return {\"filename\": file.filename}\n",
        "\n",
        "\n",
        "@app.post(\"/upload/target_file\")\n",
        "async def Target_Image(file: UploadFile = File(...)):\n",
        "\n",
        "    with open(target_file, \"wb\") as buffer:\n",
        "        shutil.copyfileobj(file.file, buffer)\n",
        "\n",
        "    return {\"filename\": file.filename}\n",
        "\n",
        "\n",
        "@app.get(\"/result\")\n",
        "def Prediction():\n",
        "  model = faceDetect(data_file, data_label[-1])\n",
        "  model.predict(target_file)\n",
        "  return FileResponse(\"pred_image.png\")\n",
        "\n",
        "\n",
        "\n",
        "if __name__ == \"__main__\":\n",
        "  ngrok_tunnel = ngrok.connect(8000)\n",
        "  print('Public URL:', ngrok_tunnel.public_url)\n",
        "  nest_asyncio.apply()\n",
        "  uvicorn.run(app, port=8000)"
      ],
      "execution_count": 3,
      "outputs": [
        {
          "output_type": "stream",
          "text": [
            "INFO:     Started server process [402]\n",
            "INFO:     Waiting for application startup.\n",
            "INFO:     Application startup complete.\n",
            "INFO:     Uvicorn running on http://127.0.0.1:8000 (Press CTRL+C to quit)\n"
          ],
          "name": "stderr"
        },
        {
          "output_type": "stream",
          "text": [
            "Public URL: http://bd8e04198f93.ngrok.io\n",
            "INFO:     106.219.50.11:0 - \"GET / HTTP/1.1\" 200 OK\n",
            "INFO:     106.219.50.11:0 - \"GET /favicon.ico HTTP/1.1\" 404 Not Found\n",
            "INFO:     49.44.83.36:0 - \"GET / HTTP/1.1\" 200 OK\n",
            "INFO:     106.219.50.11:0 - \"GET /docs HTTP/1.1\" 200 OK\n",
            "INFO:     106.219.50.11:0 - \"GET /openapi.json HTTP/1.1\" 200 OK\n",
            "INFO:     106.219.50.11:0 - \"POST /upload/data_file HTTP/1.1\" 200 OK\n",
            "INFO:     106.219.50.11:0 - \"POST /upload/target_file HTTP/1.1\" 200 OK\n",
            "INFO:     106.219.50.11:0 - \"GET /result HTTP/1.1\" 200 OK\n"
          ],
          "name": "stdout"
        },
        {
          "output_type": "stream",
          "text": [
            "INFO:     Shutting down\n",
            "INFO:     Waiting for application shutdown.\n",
            "INFO:     Application shutdown complete.\n",
            "INFO:     Finished server process [402]\n"
          ],
          "name": "stderr"
        }
      ]
    }
  ]
}